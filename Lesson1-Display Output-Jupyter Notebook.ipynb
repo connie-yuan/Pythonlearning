{
 "cells": [
  {
   "cell_type": "markdown",
   "metadata": {},
   "source": [
    "## Birth Dates In The United States"
   ]
  },
  {
   "cell_type": "markdown",
   "metadata": {},
   "source": [
    "The raw data behind the story **Some People Are Too Superstitious To Have A Baby On Friday The 13th**, which you can read [here](https://fivethirtyeight.com/features/some-people-are-too-superstitious-to-have-a-baby-on-friday-the-13th/)\n"
   ]
  },
  {
   "cell_type": "code",
   "execution_count": null,
   "metadata": {
    "collapsed": false
   },
   "outputs": [],
   "source": [
    "f = open(\"births.csv\", 'r')\n",
    "text = f.read()\n",
    "print(text[0:5])"
   ]
  },
  {
   "cell_type": "code",
   "execution_count": null,
   "metadata": {
    "collapsed": false
   },
   "outputs": [],
   "source": [
    "linebirth=text.split(\"\\n\")\n",
    "print(linebirth[0:5])"
   ]
  },
  {
   "cell_type": "code",
   "execution_count": null,
   "metadata": {
    "collapsed": false
   },
   "outputs": [],
   "source": [
    "newbirth=[]\n",
    "for line in linebirth[1:len(linebirth)]:\n",
    "    eachline=line.split(\",\")\n",
    "    newbirth.append(eachline)\n",
    "    print(eachline)"
   ]
  },
  {
   "cell_type": "code",
   "execution_count": null,
   "metadata": {
    "collapsed": false
   },
   "outputs": [],
   "source": [
    "print(newbirth)"
   ]
  },
  {
   "cell_type": "code",
   "execution_count": null,
   "metadata": {
    "collapsed": false
   },
   "outputs": [],
   "source": [
    "numofbirth=dict()\n",
    "newdata=linebirth[1:len(linebirth)]\n",
    "for element in newdata:\n",
    "    eachline=element.split(\",\")\n",
    "    day_of_week=eachline[3]\n",
    "    births=int(eachline[4])\n",
    "    if day_of_week in numofbirth:\n",
    "        numofbirth[day_of_week]=numofbirth[day_of_week]+births\n",
    "    else:\n",
    "        numofbirth[day_of_week]=births\n",
    "print(numofbirth)"
   ]
  },
  {
   "cell_type": "code",
   "execution_count": null,
   "metadata": {
    "collapsed": true
   },
   "outputs": [],
   "source": []
  }
 ],
 "metadata": {
  "anaconda-cloud": {},
  "kernelspec": {
   "display_name": "Python 3",
   "language": "python",
   "name": "python3"
  },
  "language_info": {
   "codemirror_mode": {
    "name": "ipython",
    "version": 3
   },
   "file_extension": ".py",
   "mimetype": "text/x-python",
   "name": "python",
   "nbconvert_exporter": "python",
   "pygments_lexer": "ipython3",
   "version": "3.4.3"
  }
 },
 "nbformat": 4,
 "nbformat_minor": 1
}
