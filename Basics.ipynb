{
 "cells": [
  {
   "cell_type": "code",
   "execution_count": null,
   "metadata": {
    "collapsed": false
   },
   "outputs": [],
   "source": [
    "f=open(\"US_births_1994-2003_CDC_NCHS.csv\", \"r\")\n",
    "data=f.read()\n",
    "print(data[0:100])"
   ]
  },
  {
   "cell_type": "markdown",
   "metadata": {},
   "source": [
    "The first argument is a string containing the filename. The second argument is another string containing a few characters describing the way in which the file will be used. mode can be 'r' when the file will only be read, 'w' for only writing (an existing file with the same name will be erased), and 'a' opens the file for appending; any data written to the file is automatically added to the end. 'r+' opens the file for both reading and writing. The mode argument is optional; 'r' will be assumed if it’s omitted."
   ]
  },
  {
   "cell_type": "code",
   "execution_count": null,
   "metadata": {
    "collapsed": true
   },
   "outputs": [],
   "source": [
    "birthdata=data.split(\"\\n\")"
   ]
  },
  {
   "cell_type": "code",
   "execution_count": null,
   "metadata": {
    "collapsed": false
   },
   "outputs": [],
   "source": [
    "print(birthdata[0:10])\n",
    "birthdata[0:10]"
   ]
  },
  {
   "cell_type": "code",
   "execution_count": null,
   "metadata": {
    "collapsed": false
   },
   "outputs": [],
   "source": [
    "def read_csv(data_input):\n",
    "    string_list=open(data_input, \"r\").read().split(\"\\n\")\n",
    "    string_list=string_list[1:len(string_list)]\n",
    "    final_list=[]\n",
    "    for string in string_list:\n",
    "        int_fields=[]\n",
    "        string_fields=string.split(\",\")\n",
    "        for each in string_fields:\n",
    "            int_fields.append(int(each))\n",
    "        final_list.append(int_fields)\n",
    "    return(final_list)"
   ]
  },
  {
   "cell_type": "code",
   "execution_count": null,
   "metadata": {
    "collapsed": false
   },
   "outputs": [],
   "source": [
    "cdc_list=read_csv(\"US_births_1994-2003_CDC_NCHS.csv\")\n",
    "print(cdc_list[0:10])\n",
    "cdc_list[0:10]"
   ]
  },
  {
   "cell_type": "code",
   "execution_count": null,
   "metadata": {
    "collapsed": true
   },
   "outputs": [],
   "source": [
    "def month_births(input_list):\n",
    "    births_per_month=dict()\n",
    "    for each in input_list:\n",
    "        month=each[1]\n",
    "        births=each[4]\n",
    "        if month in births_per_month:\n",
    "            births_per_month[month]=births_per_month[month]+births\n",
    "        else:\n",
    "            births_per_month[month]=births\n",
    "    return births_per_month"
   ]
  },
  {
   "cell_type": "code",
   "execution_count": null,
   "metadata": {
    "collapsed": false
   },
   "outputs": [],
   "source": [
    "cdc_month_births=month_births(cdc_list)\n",
    "cdc_month_births"
   ]
  },
  {
   "cell_type": "code",
   "execution_count": null,
   "metadata": {
    "collapsed": true
   },
   "outputs": [],
   "source": [
    "def dow_births(input_list):\n",
    "    births_dayofweek=dict()\n",
    "    for each in input_list:\n",
    "        dow=each[3]\n",
    "        births=each[4]\n",
    "        if dow in births_dayofweek:\n",
    "            births_dayofweek[dow]=births_dayofweek[dow]+births\n",
    "        else:\n",
    "            births_dayofweek[dow]=births\n",
    "    return births_dayofweek"
   ]
  },
  {
   "cell_type": "code",
   "execution_count": null,
   "metadata": {
    "collapsed": false
   },
   "outputs": [],
   "source": [
    "cdc_day_births=dow_births(cdc_list)\n",
    "cdc_day_births"
   ]
  },
  {
   "cell_type": "code",
   "execution_count": null,
   "metadata": {
    "collapsed": true
   },
   "outputs": [],
   "source": [
    "def calc_counts(data, column):\n",
    "    births_column=dict()\n",
    "    for each in data:\n",
    "        col_name=each[column]\n",
    "        births=each[4]\n",
    "        if col_name in births_column:\n",
    "            births_column[col_name]=births_column[col_name]+births\n",
    "        else:\n",
    "            births_column[col_name]=births\n",
    "    return births_column"
   ]
  },
  {
   "cell_type": "code",
   "execution_count": null,
   "metadata": {
    "collapsed": true
   },
   "outputs": [],
   "source": [
    "cdc_year_births=calc_counts(cdc_list, 0)\n",
    "cdc_month_births=calc_counts(cdc_list, 1)\n",
    "cdc_dom_births=calc_counts(cdc_list, 2)\n",
    "cdc_dow_births=calc_counts(cdc_list, 3)"
   ]
  },
  {
   "cell_type": "code",
   "execution_count": null,
   "metadata": {
    "collapsed": false
   },
   "outputs": [],
   "source": [
    "cdc_year_births"
   ]
  },
  {
   "cell_type": "code",
   "execution_count": null,
   "metadata": {
    "collapsed": true
   },
   "outputs": [],
   "source": []
  }
 ],
 "metadata": {
  "anaconda-cloud": {},
  "kernelspec": {
   "display_name": "Python 3",
   "language": "python",
   "name": "python3"
  },
  "language_info": {
   "codemirror_mode": {
    "name": "ipython",
    "version": 3
   },
   "file_extension": ".py",
   "mimetype": "text/x-python",
   "name": "python",
   "nbconvert_exporter": "python",
   "pygments_lexer": "ipython3",
   "version": "3.4.3"
  }
 },
 "nbformat": 4,
 "nbformat_minor": 1
}
